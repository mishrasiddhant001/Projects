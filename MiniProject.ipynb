{
  "nbformat": 4,
  "nbformat_minor": 0,
  "metadata": {
    "colab": {
      "provenance": [],
      "authorship_tag": "ABX9TyOK/OSNzWDuV8erWHPz42NR",
      "include_colab_link": true
    },
    "kernelspec": {
      "name": "python3",
      "display_name": "Python 3"
    },
    "language_info": {
      "name": "python"
    }
  },
  "cells": [
    {
      "cell_type": "markdown",
      "metadata": {
        "id": "view-in-github",
        "colab_type": "text"
      },
      "source": [
        "<a href=\"https://colab.research.google.com/github/mishrasiddhant001/Projects/blob/master/MiniProject.ipynb\" target=\"_parent\"><img src=\"https://colab.research.google.com/assets/colab-badge.svg\" alt=\"Open In Colab\"/></a>"
      ]
    },
    {
      "cell_type": "markdown",
      "source": [
        "Importing the libraires\n",
        "\n",
        "---\n",
        "\n"
      ],
      "metadata": {
        "id": "azZv0ZZ56_CK"
      }
    },
    {
      "cell_type": "code",
      "source": [
        "import  numpy as np\n",
        "# used for numpy arrays\n",
        "import  pandas as pd\n",
        "# used for making data-frames(structured table) #data will be in csv file\n",
        "import  matplotlib.pyplot as plt\n",
        "# used for plotting graphs\n",
        "import  seaborn as sns\n",
        "# used for data visualization\n",
        "from sklearn.model_selection import train_test_split\n",
        "# train_test_split - a class for splitting datasets into training & testing sets\n",
        "from sklearn.ensemble import RandomForestRegressor\n",
        "# is a class used for creating a random forest regression model\n",
        "from sklearn import metrics\n",
        "# used for evaluating our model to find error/accuracy score"
      ],
      "metadata": {
        "id": "sPzrdG7A7Ty-"
      },
      "execution_count": null,
      "outputs": []
    },
    {
      "cell_type": "markdown",
      "source": [
        "Data collection(CSV file) and processing"
      ],
      "metadata": {
        "id": "fCOyV_TCmnxq"
      }
    },
    {
      "cell_type": "code",
      "source": [
        "#load the csv file to a pandas data_frame\n",
        "gold_data = pd.read_csv('/content/gld_price_data.csv')"
      ],
      "metadata": {
        "id": "HHcatHDAlgkO"
      },
      "execution_count": null,
      "outputs": []
    },
    {
      "cell_type": "code",
      "source": [
        "#print first 5 rows from data_frame\n",
        "gold_data.head()  #method used to display the first few rows (by deafault 5)"
      ],
      "metadata": {
        "colab": {
          "base_uri": "https://localhost:8080/",
          "height": 206
        },
        "id": "uBFfjUvZm3rL",
        "outputId": "16ff2008-b1ba-4164-c2b3-6df18a227326"
      },
      "execution_count": null,
      "outputs": [
        {
          "output_type": "execute_result",
          "data": {
            "text/plain": [
              "       Date          SPX        GLD        USO     SLV   EUR/USD\n",
              "0  1/2/2008  1447.160034  84.860001  78.470001  15.180  1.471692\n",
              "1  1/3/2008  1447.160034  85.570000  78.370003  15.285  1.474491\n",
              "2  1/4/2008  1411.630005  85.129997  77.309998  15.167  1.475492\n",
              "3  1/7/2008  1416.180054  84.769997  75.500000  15.053  1.468299\n",
              "4  1/8/2008  1390.189941  86.779999  76.059998  15.590  1.557099"
            ],
            "text/html": [
              "\n",
              "  <div id=\"df-c11faf4b-a749-461d-84e9-2c9b1ce9b995\" class=\"colab-df-container\">\n",
              "    <div>\n",
              "<style scoped>\n",
              "    .dataframe tbody tr th:only-of-type {\n",
              "        vertical-align: middle;\n",
              "    }\n",
              "\n",
              "    .dataframe tbody tr th {\n",
              "        vertical-align: top;\n",
              "    }\n",
              "\n",
              "    .dataframe thead th {\n",
              "        text-align: right;\n",
              "    }\n",
              "</style>\n",
              "<table border=\"1\" class=\"dataframe\">\n",
              "  <thead>\n",
              "    <tr style=\"text-align: right;\">\n",
              "      <th></th>\n",
              "      <th>Date</th>\n",
              "      <th>SPX</th>\n",
              "      <th>GLD</th>\n",
              "      <th>USO</th>\n",
              "      <th>SLV</th>\n",
              "      <th>EUR/USD</th>\n",
              "    </tr>\n",
              "  </thead>\n",
              "  <tbody>\n",
              "    <tr>\n",
              "      <th>0</th>\n",
              "      <td>1/2/2008</td>\n",
              "      <td>1447.160034</td>\n",
              "      <td>84.860001</td>\n",
              "      <td>78.470001</td>\n",
              "      <td>15.180</td>\n",
              "      <td>1.471692</td>\n",
              "    </tr>\n",
              "    <tr>\n",
              "      <th>1</th>\n",
              "      <td>1/3/2008</td>\n",
              "      <td>1447.160034</td>\n",
              "      <td>85.570000</td>\n",
              "      <td>78.370003</td>\n",
              "      <td>15.285</td>\n",
              "      <td>1.474491</td>\n",
              "    </tr>\n",
              "    <tr>\n",
              "      <th>2</th>\n",
              "      <td>1/4/2008</td>\n",
              "      <td>1411.630005</td>\n",
              "      <td>85.129997</td>\n",
              "      <td>77.309998</td>\n",
              "      <td>15.167</td>\n",
              "      <td>1.475492</td>\n",
              "    </tr>\n",
              "    <tr>\n",
              "      <th>3</th>\n",
              "      <td>1/7/2008</td>\n",
              "      <td>1416.180054</td>\n",
              "      <td>84.769997</td>\n",
              "      <td>75.500000</td>\n",
              "      <td>15.053</td>\n",
              "      <td>1.468299</td>\n",
              "    </tr>\n",
              "    <tr>\n",
              "      <th>4</th>\n",
              "      <td>1/8/2008</td>\n",
              "      <td>1390.189941</td>\n",
              "      <td>86.779999</td>\n",
              "      <td>76.059998</td>\n",
              "      <td>15.590</td>\n",
              "      <td>1.557099</td>\n",
              "    </tr>\n",
              "  </tbody>\n",
              "</table>\n",
              "</div>\n",
              "    <div class=\"colab-df-buttons\">\n",
              "\n",
              "  <div class=\"colab-df-container\">\n",
              "    <button class=\"colab-df-convert\" onclick=\"convertToInteractive('df-c11faf4b-a749-461d-84e9-2c9b1ce9b995')\"\n",
              "            title=\"Convert this dataframe to an interactive table.\"\n",
              "            style=\"display:none;\">\n",
              "\n",
              "  <svg xmlns=\"http://www.w3.org/2000/svg\" height=\"24px\" viewBox=\"0 -960 960 960\">\n",
              "    <path d=\"M120-120v-720h720v720H120Zm60-500h600v-160H180v160Zm220 220h160v-160H400v160Zm0 220h160v-160H400v160ZM180-400h160v-160H180v160Zm440 0h160v-160H620v160ZM180-180h160v-160H180v160Zm440 0h160v-160H620v160Z\"/>\n",
              "  </svg>\n",
              "    </button>\n",
              "\n",
              "  <style>\n",
              "    .colab-df-container {\n",
              "      display:flex;\n",
              "      gap: 12px;\n",
              "    }\n",
              "\n",
              "    .colab-df-convert {\n",
              "      background-color: #E8F0FE;\n",
              "      border: none;\n",
              "      border-radius: 50%;\n",
              "      cursor: pointer;\n",
              "      display: none;\n",
              "      fill: #1967D2;\n",
              "      height: 32px;\n",
              "      padding: 0 0 0 0;\n",
              "      width: 32px;\n",
              "    }\n",
              "\n",
              "    .colab-df-convert:hover {\n",
              "      background-color: #E2EBFA;\n",
              "      box-shadow: 0px 1px 2px rgba(60, 64, 67, 0.3), 0px 1px 3px 1px rgba(60, 64, 67, 0.15);\n",
              "      fill: #174EA6;\n",
              "    }\n",
              "\n",
              "    .colab-df-buttons div {\n",
              "      margin-bottom: 4px;\n",
              "    }\n",
              "\n",
              "    [theme=dark] .colab-df-convert {\n",
              "      background-color: #3B4455;\n",
              "      fill: #D2E3FC;\n",
              "    }\n",
              "\n",
              "    [theme=dark] .colab-df-convert:hover {\n",
              "      background-color: #434B5C;\n",
              "      box-shadow: 0px 1px 3px 1px rgba(0, 0, 0, 0.15);\n",
              "      filter: drop-shadow(0px 1px 2px rgba(0, 0, 0, 0.3));\n",
              "      fill: #FFFFFF;\n",
              "    }\n",
              "  </style>\n",
              "\n",
              "    <script>\n",
              "      const buttonEl =\n",
              "        document.querySelector('#df-c11faf4b-a749-461d-84e9-2c9b1ce9b995 button.colab-df-convert');\n",
              "      buttonEl.style.display =\n",
              "        google.colab.kernel.accessAllowed ? 'block' : 'none';\n",
              "\n",
              "      async function convertToInteractive(key) {\n",
              "        const element = document.querySelector('#df-c11faf4b-a749-461d-84e9-2c9b1ce9b995');\n",
              "        const dataTable =\n",
              "          await google.colab.kernel.invokeFunction('convertToInteractive',\n",
              "                                                    [key], {});\n",
              "        if (!dataTable) return;\n",
              "\n",
              "        const docLinkHtml = 'Like what you see? Visit the ' +\n",
              "          '<a target=\"_blank\" href=https://colab.research.google.com/notebooks/data_table.ipynb>data table notebook</a>'\n",
              "          + ' to learn more about interactive tables.';\n",
              "        element.innerHTML = '';\n",
              "        dataTable['output_type'] = 'display_data';\n",
              "        await google.colab.output.renderOutput(dataTable, element);\n",
              "        const docLink = document.createElement('div');\n",
              "        docLink.innerHTML = docLinkHtml;\n",
              "        element.appendChild(docLink);\n",
              "      }\n",
              "    </script>\n",
              "  </div>\n",
              "\n",
              "\n",
              "<div id=\"df-34df015b-e1d7-4df4-996e-d077180d810d\">\n",
              "  <button class=\"colab-df-quickchart\" onclick=\"quickchart('df-34df015b-e1d7-4df4-996e-d077180d810d')\"\n",
              "            title=\"Suggest charts\"\n",
              "            style=\"display:none;\">\n",
              "\n",
              "<svg xmlns=\"http://www.w3.org/2000/svg\" height=\"24px\"viewBox=\"0 0 24 24\"\n",
              "     width=\"24px\">\n",
              "    <g>\n",
              "        <path d=\"M19 3H5c-1.1 0-2 .9-2 2v14c0 1.1.9 2 2 2h14c1.1 0 2-.9 2-2V5c0-1.1-.9-2-2-2zM9 17H7v-7h2v7zm4 0h-2V7h2v10zm4 0h-2v-4h2v4z\"/>\n",
              "    </g>\n",
              "</svg>\n",
              "  </button>\n",
              "\n",
              "<style>\n",
              "  .colab-df-quickchart {\n",
              "      --bg-color: #E8F0FE;\n",
              "      --fill-color: #1967D2;\n",
              "      --hover-bg-color: #E2EBFA;\n",
              "      --hover-fill-color: #174EA6;\n",
              "      --disabled-fill-color: #AAA;\n",
              "      --disabled-bg-color: #DDD;\n",
              "  }\n",
              "\n",
              "  [theme=dark] .colab-df-quickchart {\n",
              "      --bg-color: #3B4455;\n",
              "      --fill-color: #D2E3FC;\n",
              "      --hover-bg-color: #434B5C;\n",
              "      --hover-fill-color: #FFFFFF;\n",
              "      --disabled-bg-color: #3B4455;\n",
              "      --disabled-fill-color: #666;\n",
              "  }\n",
              "\n",
              "  .colab-df-quickchart {\n",
              "    background-color: var(--bg-color);\n",
              "    border: none;\n",
              "    border-radius: 50%;\n",
              "    cursor: pointer;\n",
              "    display: none;\n",
              "    fill: var(--fill-color);\n",
              "    height: 32px;\n",
              "    padding: 0;\n",
              "    width: 32px;\n",
              "  }\n",
              "\n",
              "  .colab-df-quickchart:hover {\n",
              "    background-color: var(--hover-bg-color);\n",
              "    box-shadow: 0 1px 2px rgba(60, 64, 67, 0.3), 0 1px 3px 1px rgba(60, 64, 67, 0.15);\n",
              "    fill: var(--button-hover-fill-color);\n",
              "  }\n",
              "\n",
              "  .colab-df-quickchart-complete:disabled,\n",
              "  .colab-df-quickchart-complete:disabled:hover {\n",
              "    background-color: var(--disabled-bg-color);\n",
              "    fill: var(--disabled-fill-color);\n",
              "    box-shadow: none;\n",
              "  }\n",
              "\n",
              "  .colab-df-spinner {\n",
              "    border: 2px solid var(--fill-color);\n",
              "    border-color: transparent;\n",
              "    border-bottom-color: var(--fill-color);\n",
              "    animation:\n",
              "      spin 1s steps(1) infinite;\n",
              "  }\n",
              "\n",
              "  @keyframes spin {\n",
              "    0% {\n",
              "      border-color: transparent;\n",
              "      border-bottom-color: var(--fill-color);\n",
              "      border-left-color: var(--fill-color);\n",
              "    }\n",
              "    20% {\n",
              "      border-color: transparent;\n",
              "      border-left-color: var(--fill-color);\n",
              "      border-top-color: var(--fill-color);\n",
              "    }\n",
              "    30% {\n",
              "      border-color: transparent;\n",
              "      border-left-color: var(--fill-color);\n",
              "      border-top-color: var(--fill-color);\n",
              "      border-right-color: var(--fill-color);\n",
              "    }\n",
              "    40% {\n",
              "      border-color: transparent;\n",
              "      border-right-color: var(--fill-color);\n",
              "      border-top-color: var(--fill-color);\n",
              "    }\n",
              "    60% {\n",
              "      border-color: transparent;\n",
              "      border-right-color: var(--fill-color);\n",
              "    }\n",
              "    80% {\n",
              "      border-color: transparent;\n",
              "      border-right-color: var(--fill-color);\n",
              "      border-bottom-color: var(--fill-color);\n",
              "    }\n",
              "    90% {\n",
              "      border-color: transparent;\n",
              "      border-bottom-color: var(--fill-color);\n",
              "    }\n",
              "  }\n",
              "</style>\n",
              "\n",
              "  <script>\n",
              "    async function quickchart(key) {\n",
              "      const quickchartButtonEl =\n",
              "        document.querySelector('#' + key + ' button');\n",
              "      quickchartButtonEl.disabled = true;  // To prevent multiple clicks.\n",
              "      quickchartButtonEl.classList.add('colab-df-spinner');\n",
              "      try {\n",
              "        const charts = await google.colab.kernel.invokeFunction(\n",
              "            'suggestCharts', [key], {});\n",
              "      } catch (error) {\n",
              "        console.error('Error during call to suggestCharts:', error);\n",
              "      }\n",
              "      quickchartButtonEl.classList.remove('colab-df-spinner');\n",
              "      quickchartButtonEl.classList.add('colab-df-quickchart-complete');\n",
              "    }\n",
              "    (() => {\n",
              "      let quickchartButtonEl =\n",
              "        document.querySelector('#df-34df015b-e1d7-4df4-996e-d077180d810d button');\n",
              "      quickchartButtonEl.style.display =\n",
              "        google.colab.kernel.accessAllowed ? 'block' : 'none';\n",
              "    })();\n",
              "  </script>\n",
              "</div>\n",
              "\n",
              "    </div>\n",
              "  </div>\n"
            ]
          },
          "metadata": {},
          "execution_count": 49
        }
      ]
    },
    {
      "cell_type": "markdown",
      "source": [
        "**NOTES**\n",
        "\n",
        "SPX - Standard & Poor's 500, a stock market index that measures the performance of 500 large companies listed on stock exchange in US.\n",
        "\n",
        "GLD - GLD refers to the Closing market price of one share of gold ETF.\n",
        "\n",
        "USO - Closing prices of the United States Oil Fund.\n",
        "\n",
        "SLV - Closing prices of one share of Silver ETF.\n",
        "\n",
        "EUR/USD - Exchange rate between the Euro (EUR) and US Dollar (USD)."
      ],
      "metadata": {
        "id": "7VeEhGDdqGwR"
      }
    },
    {
      "cell_type": "code",
      "source": [
        "#print last 5 rows from data_frame\n",
        "gold_data.tail()  #method used to display the last few rows (by deafault 5)"
      ],
      "metadata": {
        "colab": {
          "base_uri": "https://localhost:8080/",
          "height": 206
        },
        "id": "UuOMAUI7tHT1",
        "outputId": "0a2abb96-11c8-4b6e-f241-755a8ffa7f1d"
      },
      "execution_count": null,
      "outputs": [
        {
          "output_type": "execute_result",
          "data": {
            "text/plain": [
              "           Date          SPX         GLD      USO      SLV   EUR/USD\n",
              "2285   5/8/2018  2671.919922  124.589996  14.0600  15.5100  1.186789\n",
              "2286   5/9/2018  2697.790039  124.330002  14.3700  15.5300  1.184722\n",
              "2287  5/10/2018  2723.070068  125.180000  14.4100  15.7400  1.191753\n",
              "2288  5/14/2018  2730.129883  124.489998  14.3800  15.5600  1.193118\n",
              "2289  5/16/2018  2725.780029  122.543800  14.4058  15.4542  1.182033"
            ],
            "text/html": [
              "\n",
              "  <div id=\"df-c60e8437-3874-4e78-a4b4-ff2c8c5ad2c2\" class=\"colab-df-container\">\n",
              "    <div>\n",
              "<style scoped>\n",
              "    .dataframe tbody tr th:only-of-type {\n",
              "        vertical-align: middle;\n",
              "    }\n",
              "\n",
              "    .dataframe tbody tr th {\n",
              "        vertical-align: top;\n",
              "    }\n",
              "\n",
              "    .dataframe thead th {\n",
              "        text-align: right;\n",
              "    }\n",
              "</style>\n",
              "<table border=\"1\" class=\"dataframe\">\n",
              "  <thead>\n",
              "    <tr style=\"text-align: right;\">\n",
              "      <th></th>\n",
              "      <th>Date</th>\n",
              "      <th>SPX</th>\n",
              "      <th>GLD</th>\n",
              "      <th>USO</th>\n",
              "      <th>SLV</th>\n",
              "      <th>EUR/USD</th>\n",
              "    </tr>\n",
              "  </thead>\n",
              "  <tbody>\n",
              "    <tr>\n",
              "      <th>2285</th>\n",
              "      <td>5/8/2018</td>\n",
              "      <td>2671.919922</td>\n",
              "      <td>124.589996</td>\n",
              "      <td>14.0600</td>\n",
              "      <td>15.5100</td>\n",
              "      <td>1.186789</td>\n",
              "    </tr>\n",
              "    <tr>\n",
              "      <th>2286</th>\n",
              "      <td>5/9/2018</td>\n",
              "      <td>2697.790039</td>\n",
              "      <td>124.330002</td>\n",
              "      <td>14.3700</td>\n",
              "      <td>15.5300</td>\n",
              "      <td>1.184722</td>\n",
              "    </tr>\n",
              "    <tr>\n",
              "      <th>2287</th>\n",
              "      <td>5/10/2018</td>\n",
              "      <td>2723.070068</td>\n",
              "      <td>125.180000</td>\n",
              "      <td>14.4100</td>\n",
              "      <td>15.7400</td>\n",
              "      <td>1.191753</td>\n",
              "    </tr>\n",
              "    <tr>\n",
              "      <th>2288</th>\n",
              "      <td>5/14/2018</td>\n",
              "      <td>2730.129883</td>\n",
              "      <td>124.489998</td>\n",
              "      <td>14.3800</td>\n",
              "      <td>15.5600</td>\n",
              "      <td>1.193118</td>\n",
              "    </tr>\n",
              "    <tr>\n",
              "      <th>2289</th>\n",
              "      <td>5/16/2018</td>\n",
              "      <td>2725.780029</td>\n",
              "      <td>122.543800</td>\n",
              "      <td>14.4058</td>\n",
              "      <td>15.4542</td>\n",
              "      <td>1.182033</td>\n",
              "    </tr>\n",
              "  </tbody>\n",
              "</table>\n",
              "</div>\n",
              "    <div class=\"colab-df-buttons\">\n",
              "\n",
              "  <div class=\"colab-df-container\">\n",
              "    <button class=\"colab-df-convert\" onclick=\"convertToInteractive('df-c60e8437-3874-4e78-a4b4-ff2c8c5ad2c2')\"\n",
              "            title=\"Convert this dataframe to an interactive table.\"\n",
              "            style=\"display:none;\">\n",
              "\n",
              "  <svg xmlns=\"http://www.w3.org/2000/svg\" height=\"24px\" viewBox=\"0 -960 960 960\">\n",
              "    <path d=\"M120-120v-720h720v720H120Zm60-500h600v-160H180v160Zm220 220h160v-160H400v160Zm0 220h160v-160H400v160ZM180-400h160v-160H180v160Zm440 0h160v-160H620v160ZM180-180h160v-160H180v160Zm440 0h160v-160H620v160Z\"/>\n",
              "  </svg>\n",
              "    </button>\n",
              "\n",
              "  <style>\n",
              "    .colab-df-container {\n",
              "      display:flex;\n",
              "      gap: 12px;\n",
              "    }\n",
              "\n",
              "    .colab-df-convert {\n",
              "      background-color: #E8F0FE;\n",
              "      border: none;\n",
              "      border-radius: 50%;\n",
              "      cursor: pointer;\n",
              "      display: none;\n",
              "      fill: #1967D2;\n",
              "      height: 32px;\n",
              "      padding: 0 0 0 0;\n",
              "      width: 32px;\n",
              "    }\n",
              "\n",
              "    .colab-df-convert:hover {\n",
              "      background-color: #E2EBFA;\n",
              "      box-shadow: 0px 1px 2px rgba(60, 64, 67, 0.3), 0px 1px 3px 1px rgba(60, 64, 67, 0.15);\n",
              "      fill: #174EA6;\n",
              "    }\n",
              "\n",
              "    .colab-df-buttons div {\n",
              "      margin-bottom: 4px;\n",
              "    }\n",
              "\n",
              "    [theme=dark] .colab-df-convert {\n",
              "      background-color: #3B4455;\n",
              "      fill: #D2E3FC;\n",
              "    }\n",
              "\n",
              "    [theme=dark] .colab-df-convert:hover {\n",
              "      background-color: #434B5C;\n",
              "      box-shadow: 0px 1px 3px 1px rgba(0, 0, 0, 0.15);\n",
              "      filter: drop-shadow(0px 1px 2px rgba(0, 0, 0, 0.3));\n",
              "      fill: #FFFFFF;\n",
              "    }\n",
              "  </style>\n",
              "\n",
              "    <script>\n",
              "      const buttonEl =\n",
              "        document.querySelector('#df-c60e8437-3874-4e78-a4b4-ff2c8c5ad2c2 button.colab-df-convert');\n",
              "      buttonEl.style.display =\n",
              "        google.colab.kernel.accessAllowed ? 'block' : 'none';\n",
              "\n",
              "      async function convertToInteractive(key) {\n",
              "        const element = document.querySelector('#df-c60e8437-3874-4e78-a4b4-ff2c8c5ad2c2');\n",
              "        const dataTable =\n",
              "          await google.colab.kernel.invokeFunction('convertToInteractive',\n",
              "                                                    [key], {});\n",
              "        if (!dataTable) return;\n",
              "\n",
              "        const docLinkHtml = 'Like what you see? Visit the ' +\n",
              "          '<a target=\"_blank\" href=https://colab.research.google.com/notebooks/data_table.ipynb>data table notebook</a>'\n",
              "          + ' to learn more about interactive tables.';\n",
              "        element.innerHTML = '';\n",
              "        dataTable['output_type'] = 'display_data';\n",
              "        await google.colab.output.renderOutput(dataTable, element);\n",
              "        const docLink = document.createElement('div');\n",
              "        docLink.innerHTML = docLinkHtml;\n",
              "        element.appendChild(docLink);\n",
              "      }\n",
              "    </script>\n",
              "  </div>\n",
              "\n",
              "\n",
              "<div id=\"df-bd21bf73-4d2e-42f3-a65e-4865c2146795\">\n",
              "  <button class=\"colab-df-quickchart\" onclick=\"quickchart('df-bd21bf73-4d2e-42f3-a65e-4865c2146795')\"\n",
              "            title=\"Suggest charts\"\n",
              "            style=\"display:none;\">\n",
              "\n",
              "<svg xmlns=\"http://www.w3.org/2000/svg\" height=\"24px\"viewBox=\"0 0 24 24\"\n",
              "     width=\"24px\">\n",
              "    <g>\n",
              "        <path d=\"M19 3H5c-1.1 0-2 .9-2 2v14c0 1.1.9 2 2 2h14c1.1 0 2-.9 2-2V5c0-1.1-.9-2-2-2zM9 17H7v-7h2v7zm4 0h-2V7h2v10zm4 0h-2v-4h2v4z\"/>\n",
              "    </g>\n",
              "</svg>\n",
              "  </button>\n",
              "\n",
              "<style>\n",
              "  .colab-df-quickchart {\n",
              "      --bg-color: #E8F0FE;\n",
              "      --fill-color: #1967D2;\n",
              "      --hover-bg-color: #E2EBFA;\n",
              "      --hover-fill-color: #174EA6;\n",
              "      --disabled-fill-color: #AAA;\n",
              "      --disabled-bg-color: #DDD;\n",
              "  }\n",
              "\n",
              "  [theme=dark] .colab-df-quickchart {\n",
              "      --bg-color: #3B4455;\n",
              "      --fill-color: #D2E3FC;\n",
              "      --hover-bg-color: #434B5C;\n",
              "      --hover-fill-color: #FFFFFF;\n",
              "      --disabled-bg-color: #3B4455;\n",
              "      --disabled-fill-color: #666;\n",
              "  }\n",
              "\n",
              "  .colab-df-quickchart {\n",
              "    background-color: var(--bg-color);\n",
              "    border: none;\n",
              "    border-radius: 50%;\n",
              "    cursor: pointer;\n",
              "    display: none;\n",
              "    fill: var(--fill-color);\n",
              "    height: 32px;\n",
              "    padding: 0;\n",
              "    width: 32px;\n",
              "  }\n",
              "\n",
              "  .colab-df-quickchart:hover {\n",
              "    background-color: var(--hover-bg-color);\n",
              "    box-shadow: 0 1px 2px rgba(60, 64, 67, 0.3), 0 1px 3px 1px rgba(60, 64, 67, 0.15);\n",
              "    fill: var(--button-hover-fill-color);\n",
              "  }\n",
              "\n",
              "  .colab-df-quickchart-complete:disabled,\n",
              "  .colab-df-quickchart-complete:disabled:hover {\n",
              "    background-color: var(--disabled-bg-color);\n",
              "    fill: var(--disabled-fill-color);\n",
              "    box-shadow: none;\n",
              "  }\n",
              "\n",
              "  .colab-df-spinner {\n",
              "    border: 2px solid var(--fill-color);\n",
              "    border-color: transparent;\n",
              "    border-bottom-color: var(--fill-color);\n",
              "    animation:\n",
              "      spin 1s steps(1) infinite;\n",
              "  }\n",
              "\n",
              "  @keyframes spin {\n",
              "    0% {\n",
              "      border-color: transparent;\n",
              "      border-bottom-color: var(--fill-color);\n",
              "      border-left-color: var(--fill-color);\n",
              "    }\n",
              "    20% {\n",
              "      border-color: transparent;\n",
              "      border-left-color: var(--fill-color);\n",
              "      border-top-color: var(--fill-color);\n",
              "    }\n",
              "    30% {\n",
              "      border-color: transparent;\n",
              "      border-left-color: var(--fill-color);\n",
              "      border-top-color: var(--fill-color);\n",
              "      border-right-color: var(--fill-color);\n",
              "    }\n",
              "    40% {\n",
              "      border-color: transparent;\n",
              "      border-right-color: var(--fill-color);\n",
              "      border-top-color: var(--fill-color);\n",
              "    }\n",
              "    60% {\n",
              "      border-color: transparent;\n",
              "      border-right-color: var(--fill-color);\n",
              "    }\n",
              "    80% {\n",
              "      border-color: transparent;\n",
              "      border-right-color: var(--fill-color);\n",
              "      border-bottom-color: var(--fill-color);\n",
              "    }\n",
              "    90% {\n",
              "      border-color: transparent;\n",
              "      border-bottom-color: var(--fill-color);\n",
              "    }\n",
              "  }\n",
              "</style>\n",
              "\n",
              "  <script>\n",
              "    async function quickchart(key) {\n",
              "      const quickchartButtonEl =\n",
              "        document.querySelector('#' + key + ' button');\n",
              "      quickchartButtonEl.disabled = true;  // To prevent multiple clicks.\n",
              "      quickchartButtonEl.classList.add('colab-df-spinner');\n",
              "      try {\n",
              "        const charts = await google.colab.kernel.invokeFunction(\n",
              "            'suggestCharts', [key], {});\n",
              "      } catch (error) {\n",
              "        console.error('Error during call to suggestCharts:', error);\n",
              "      }\n",
              "      quickchartButtonEl.classList.remove('colab-df-spinner');\n",
              "      quickchartButtonEl.classList.add('colab-df-quickchart-complete');\n",
              "    }\n",
              "    (() => {\n",
              "      let quickchartButtonEl =\n",
              "        document.querySelector('#df-bd21bf73-4d2e-42f3-a65e-4865c2146795 button');\n",
              "      quickchartButtonEl.style.display =\n",
              "        google.colab.kernel.accessAllowed ? 'block' : 'none';\n",
              "    })();\n",
              "  </script>\n",
              "</div>\n",
              "\n",
              "    </div>\n",
              "  </div>\n"
            ]
          },
          "metadata": {},
          "execution_count": 50
        }
      ]
    },
    {
      "cell_type": "code",
      "source": [
        "#number of rows and columns\n",
        "gold_data.shape"
      ],
      "metadata": {
        "colab": {
          "base_uri": "https://localhost:8080/"
        },
        "id": "pAu3wk0utK0U",
        "outputId": "91cf8521-454e-4da5-d8ab-adb2deabdec2"
      },
      "execution_count": null,
      "outputs": [
        {
          "output_type": "execute_result",
          "data": {
            "text/plain": [
              "(2290, 6)"
            ]
          },
          "metadata": {},
          "execution_count": 51
        }
      ]
    },
    {
      "cell_type": "code",
      "source": [
        "#basic info of CSV file\n",
        "gold_data.info()"
      ],
      "metadata": {
        "colab": {
          "base_uri": "https://localhost:8080/"
        },
        "id": "-q4Hd48ztW7l",
        "outputId": "98c13191-fb87-42c0-8ca4-f521bc6b4951"
      },
      "execution_count": null,
      "outputs": [
        {
          "output_type": "stream",
          "name": "stdout",
          "text": [
            "<class 'pandas.core.frame.DataFrame'>\n",
            "RangeIndex: 2290 entries, 0 to 2289\n",
            "Data columns (total 6 columns):\n",
            " #   Column   Non-Null Count  Dtype  \n",
            "---  ------   --------------  -----  \n",
            " 0   Date     2290 non-null   object \n",
            " 1   SPX      2290 non-null   float64\n",
            " 2   GLD      2290 non-null   float64\n",
            " 3   USO      2290 non-null   float64\n",
            " 4   SLV      2290 non-null   float64\n",
            " 5   EUR/USD  2290 non-null   float64\n",
            "dtypes: float64(5), object(1)\n",
            "memory usage: 107.5+ KB\n"
          ]
        }
      ]
    },
    {
      "cell_type": "markdown",
      "source": [
        "from above result we can conclude that this data frame have 2290 entires and and no null values"
      ],
      "metadata": {
        "id": "MrPCeqlixrFf"
      }
    },
    {
      "cell_type": "code",
      "source": [
        "# checking the number of missing values\n",
        "gold_data.isnull().sum()"
      ],
      "metadata": {
        "colab": {
          "base_uri": "https://localhost:8080/"
        },
        "id": "5nkP6o24tjwl",
        "outputId": "5ddf2ea9-fb9c-4bcf-a098-9852d32c6cfb"
      },
      "execution_count": null,
      "outputs": [
        {
          "output_type": "execute_result",
          "data": {
            "text/plain": [
              "Date       0\n",
              "SPX        0\n",
              "GLD        0\n",
              "USO        0\n",
              "SLV        0\n",
              "EUR/USD    0\n",
              "dtype: int64"
            ]
          },
          "metadata": {},
          "execution_count": 53
        }
      ]
    },
    {
      "cell_type": "markdown",
      "source": [
        "from above result we can conclude that this data frame have no missing values"
      ],
      "metadata": {
        "id": "Dwmm2cFqyBsA"
      }
    },
    {
      "cell_type": "code",
      "source": [
        "#getting the statistical measures of the data\n",
        "gold_data.describe()\n",
        "#to provide description about data like mean vlaues, standard deviation and minimum and maximum values of each colmun individually"
      ],
      "metadata": {
        "colab": {
          "base_uri": "https://localhost:8080/",
          "height": 300
        },
        "id": "nCqMI8-KtyGQ",
        "outputId": "96c90432-327a-48c8-dfc5-bab0ac0e778b"
      },
      "execution_count": null,
      "outputs": [
        {
          "output_type": "execute_result",
          "data": {
            "text/plain": [
              "               SPX          GLD          USO          SLV      EUR/USD\n",
              "count  2290.000000  2290.000000  2290.000000  2290.000000  2290.000000\n",
              "mean   1654.315776   122.732875    31.842221    20.084997     1.283653\n",
              "std     519.111540    23.283346    19.523517     7.092566     0.131547\n",
              "min     676.530029    70.000000     7.960000     8.850000     1.039047\n",
              "25%    1239.874969   109.725000    14.380000    15.570000     1.171313\n",
              "50%    1551.434998   120.580002    33.869999    17.268500     1.303297\n",
              "75%    2073.010070   132.840004    37.827501    22.882500     1.369971\n",
              "max    2872.870117   184.589996   117.480003    47.259998     1.598798"
            ],
            "text/html": [
              "\n",
              "  <div id=\"df-fbcebab6-391b-4bdf-a31e-545c4f5e375c\" class=\"colab-df-container\">\n",
              "    <div>\n",
              "<style scoped>\n",
              "    .dataframe tbody tr th:only-of-type {\n",
              "        vertical-align: middle;\n",
              "    }\n",
              "\n",
              "    .dataframe tbody tr th {\n",
              "        vertical-align: top;\n",
              "    }\n",
              "\n",
              "    .dataframe thead th {\n",
              "        text-align: right;\n",
              "    }\n",
              "</style>\n",
              "<table border=\"1\" class=\"dataframe\">\n",
              "  <thead>\n",
              "    <tr style=\"text-align: right;\">\n",
              "      <th></th>\n",
              "      <th>SPX</th>\n",
              "      <th>GLD</th>\n",
              "      <th>USO</th>\n",
              "      <th>SLV</th>\n",
              "      <th>EUR/USD</th>\n",
              "    </tr>\n",
              "  </thead>\n",
              "  <tbody>\n",
              "    <tr>\n",
              "      <th>count</th>\n",
              "      <td>2290.000000</td>\n",
              "      <td>2290.000000</td>\n",
              "      <td>2290.000000</td>\n",
              "      <td>2290.000000</td>\n",
              "      <td>2290.000000</td>\n",
              "    </tr>\n",
              "    <tr>\n",
              "      <th>mean</th>\n",
              "      <td>1654.315776</td>\n",
              "      <td>122.732875</td>\n",
              "      <td>31.842221</td>\n",
              "      <td>20.084997</td>\n",
              "      <td>1.283653</td>\n",
              "    </tr>\n",
              "    <tr>\n",
              "      <th>std</th>\n",
              "      <td>519.111540</td>\n",
              "      <td>23.283346</td>\n",
              "      <td>19.523517</td>\n",
              "      <td>7.092566</td>\n",
              "      <td>0.131547</td>\n",
              "    </tr>\n",
              "    <tr>\n",
              "      <th>min</th>\n",
              "      <td>676.530029</td>\n",
              "      <td>70.000000</td>\n",
              "      <td>7.960000</td>\n",
              "      <td>8.850000</td>\n",
              "      <td>1.039047</td>\n",
              "    </tr>\n",
              "    <tr>\n",
              "      <th>25%</th>\n",
              "      <td>1239.874969</td>\n",
              "      <td>109.725000</td>\n",
              "      <td>14.380000</td>\n",
              "      <td>15.570000</td>\n",
              "      <td>1.171313</td>\n",
              "    </tr>\n",
              "    <tr>\n",
              "      <th>50%</th>\n",
              "      <td>1551.434998</td>\n",
              "      <td>120.580002</td>\n",
              "      <td>33.869999</td>\n",
              "      <td>17.268500</td>\n",
              "      <td>1.303297</td>\n",
              "    </tr>\n",
              "    <tr>\n",
              "      <th>75%</th>\n",
              "      <td>2073.010070</td>\n",
              "      <td>132.840004</td>\n",
              "      <td>37.827501</td>\n",
              "      <td>22.882500</td>\n",
              "      <td>1.369971</td>\n",
              "    </tr>\n",
              "    <tr>\n",
              "      <th>max</th>\n",
              "      <td>2872.870117</td>\n",
              "      <td>184.589996</td>\n",
              "      <td>117.480003</td>\n",
              "      <td>47.259998</td>\n",
              "      <td>1.598798</td>\n",
              "    </tr>\n",
              "  </tbody>\n",
              "</table>\n",
              "</div>\n",
              "    <div class=\"colab-df-buttons\">\n",
              "\n",
              "  <div class=\"colab-df-container\">\n",
              "    <button class=\"colab-df-convert\" onclick=\"convertToInteractive('df-fbcebab6-391b-4bdf-a31e-545c4f5e375c')\"\n",
              "            title=\"Convert this dataframe to an interactive table.\"\n",
              "            style=\"display:none;\">\n",
              "\n",
              "  <svg xmlns=\"http://www.w3.org/2000/svg\" height=\"24px\" viewBox=\"0 -960 960 960\">\n",
              "    <path d=\"M120-120v-720h720v720H120Zm60-500h600v-160H180v160Zm220 220h160v-160H400v160Zm0 220h160v-160H400v160ZM180-400h160v-160H180v160Zm440 0h160v-160H620v160ZM180-180h160v-160H180v160Zm440 0h160v-160H620v160Z\"/>\n",
              "  </svg>\n",
              "    </button>\n",
              "\n",
              "  <style>\n",
              "    .colab-df-container {\n",
              "      display:flex;\n",
              "      gap: 12px;\n",
              "    }\n",
              "\n",
              "    .colab-df-convert {\n",
              "      background-color: #E8F0FE;\n",
              "      border: none;\n",
              "      border-radius: 50%;\n",
              "      cursor: pointer;\n",
              "      display: none;\n",
              "      fill: #1967D2;\n",
              "      height: 32px;\n",
              "      padding: 0 0 0 0;\n",
              "      width: 32px;\n",
              "    }\n",
              "\n",
              "    .colab-df-convert:hover {\n",
              "      background-color: #E2EBFA;\n",
              "      box-shadow: 0px 1px 2px rgba(60, 64, 67, 0.3), 0px 1px 3px 1px rgba(60, 64, 67, 0.15);\n",
              "      fill: #174EA6;\n",
              "    }\n",
              "\n",
              "    .colab-df-buttons div {\n",
              "      margin-bottom: 4px;\n",
              "    }\n",
              "\n",
              "    [theme=dark] .colab-df-convert {\n",
              "      background-color: #3B4455;\n",
              "      fill: #D2E3FC;\n",
              "    }\n",
              "\n",
              "    [theme=dark] .colab-df-convert:hover {\n",
              "      background-color: #434B5C;\n",
              "      box-shadow: 0px 1px 3px 1px rgba(0, 0, 0, 0.15);\n",
              "      filter: drop-shadow(0px 1px 2px rgba(0, 0, 0, 0.3));\n",
              "      fill: #FFFFFF;\n",
              "    }\n",
              "  </style>\n",
              "\n",
              "    <script>\n",
              "      const buttonEl =\n",
              "        document.querySelector('#df-fbcebab6-391b-4bdf-a31e-545c4f5e375c button.colab-df-convert');\n",
              "      buttonEl.style.display =\n",
              "        google.colab.kernel.accessAllowed ? 'block' : 'none';\n",
              "\n",
              "      async function convertToInteractive(key) {\n",
              "        const element = document.querySelector('#df-fbcebab6-391b-4bdf-a31e-545c4f5e375c');\n",
              "        const dataTable =\n",
              "          await google.colab.kernel.invokeFunction('convertToInteractive',\n",
              "                                                    [key], {});\n",
              "        if (!dataTable) return;\n",
              "\n",
              "        const docLinkHtml = 'Like what you see? Visit the ' +\n",
              "          '<a target=\"_blank\" href=https://colab.research.google.com/notebooks/data_table.ipynb>data table notebook</a>'\n",
              "          + ' to learn more about interactive tables.';\n",
              "        element.innerHTML = '';\n",
              "        dataTable['output_type'] = 'display_data';\n",
              "        await google.colab.output.renderOutput(dataTable, element);\n",
              "        const docLink = document.createElement('div');\n",
              "        docLink.innerHTML = docLinkHtml;\n",
              "        element.appendChild(docLink);\n",
              "      }\n",
              "    </script>\n",
              "  </div>\n",
              "\n",
              "\n",
              "<div id=\"df-ab8f7e5a-8457-43c0-a8f8-da3047189e6e\">\n",
              "  <button class=\"colab-df-quickchart\" onclick=\"quickchart('df-ab8f7e5a-8457-43c0-a8f8-da3047189e6e')\"\n",
              "            title=\"Suggest charts\"\n",
              "            style=\"display:none;\">\n",
              "\n",
              "<svg xmlns=\"http://www.w3.org/2000/svg\" height=\"24px\"viewBox=\"0 0 24 24\"\n",
              "     width=\"24px\">\n",
              "    <g>\n",
              "        <path d=\"M19 3H5c-1.1 0-2 .9-2 2v14c0 1.1.9 2 2 2h14c1.1 0 2-.9 2-2V5c0-1.1-.9-2-2-2zM9 17H7v-7h2v7zm4 0h-2V7h2v10zm4 0h-2v-4h2v4z\"/>\n",
              "    </g>\n",
              "</svg>\n",
              "  </button>\n",
              "\n",
              "<style>\n",
              "  .colab-df-quickchart {\n",
              "      --bg-color: #E8F0FE;\n",
              "      --fill-color: #1967D2;\n",
              "      --hover-bg-color: #E2EBFA;\n",
              "      --hover-fill-color: #174EA6;\n",
              "      --disabled-fill-color: #AAA;\n",
              "      --disabled-bg-color: #DDD;\n",
              "  }\n",
              "\n",
              "  [theme=dark] .colab-df-quickchart {\n",
              "      --bg-color: #3B4455;\n",
              "      --fill-color: #D2E3FC;\n",
              "      --hover-bg-color: #434B5C;\n",
              "      --hover-fill-color: #FFFFFF;\n",
              "      --disabled-bg-color: #3B4455;\n",
              "      --disabled-fill-color: #666;\n",
              "  }\n",
              "\n",
              "  .colab-df-quickchart {\n",
              "    background-color: var(--bg-color);\n",
              "    border: none;\n",
              "    border-radius: 50%;\n",
              "    cursor: pointer;\n",
              "    display: none;\n",
              "    fill: var(--fill-color);\n",
              "    height: 32px;\n",
              "    padding: 0;\n",
              "    width: 32px;\n",
              "  }\n",
              "\n",
              "  .colab-df-quickchart:hover {\n",
              "    background-color: var(--hover-bg-color);\n",
              "    box-shadow: 0 1px 2px rgba(60, 64, 67, 0.3), 0 1px 3px 1px rgba(60, 64, 67, 0.15);\n",
              "    fill: var(--button-hover-fill-color);\n",
              "  }\n",
              "\n",
              "  .colab-df-quickchart-complete:disabled,\n",
              "  .colab-df-quickchart-complete:disabled:hover {\n",
              "    background-color: var(--disabled-bg-color);\n",
              "    fill: var(--disabled-fill-color);\n",
              "    box-shadow: none;\n",
              "  }\n",
              "\n",
              "  .colab-df-spinner {\n",
              "    border: 2px solid var(--fill-color);\n",
              "    border-color: transparent;\n",
              "    border-bottom-color: var(--fill-color);\n",
              "    animation:\n",
              "      spin 1s steps(1) infinite;\n",
              "  }\n",
              "\n",
              "  @keyframes spin {\n",
              "    0% {\n",
              "      border-color: transparent;\n",
              "      border-bottom-color: var(--fill-color);\n",
              "      border-left-color: var(--fill-color);\n",
              "    }\n",
              "    20% {\n",
              "      border-color: transparent;\n",
              "      border-left-color: var(--fill-color);\n",
              "      border-top-color: var(--fill-color);\n",
              "    }\n",
              "    30% {\n",
              "      border-color: transparent;\n",
              "      border-left-color: var(--fill-color);\n",
              "      border-top-color: var(--fill-color);\n",
              "      border-right-color: var(--fill-color);\n",
              "    }\n",
              "    40% {\n",
              "      border-color: transparent;\n",
              "      border-right-color: var(--fill-color);\n",
              "      border-top-color: var(--fill-color);\n",
              "    }\n",
              "    60% {\n",
              "      border-color: transparent;\n",
              "      border-right-color: var(--fill-color);\n",
              "    }\n",
              "    80% {\n",
              "      border-color: transparent;\n",
              "      border-right-color: var(--fill-color);\n",
              "      border-bottom-color: var(--fill-color);\n",
              "    }\n",
              "    90% {\n",
              "      border-color: transparent;\n",
              "      border-bottom-color: var(--fill-color);\n",
              "    }\n",
              "  }\n",
              "</style>\n",
              "\n",
              "  <script>\n",
              "    async function quickchart(key) {\n",
              "      const quickchartButtonEl =\n",
              "        document.querySelector('#' + key + ' button');\n",
              "      quickchartButtonEl.disabled = true;  // To prevent multiple clicks.\n",
              "      quickchartButtonEl.classList.add('colab-df-spinner');\n",
              "      try {\n",
              "        const charts = await google.colab.kernel.invokeFunction(\n",
              "            'suggestCharts', [key], {});\n",
              "      } catch (error) {\n",
              "        console.error('Error during call to suggestCharts:', error);\n",
              "      }\n",
              "      quickchartButtonEl.classList.remove('colab-df-spinner');\n",
              "      quickchartButtonEl.classList.add('colab-df-quickchart-complete');\n",
              "    }\n",
              "    (() => {\n",
              "      let quickchartButtonEl =\n",
              "        document.querySelector('#df-ab8f7e5a-8457-43c0-a8f8-da3047189e6e button');\n",
              "      quickchartButtonEl.style.display =\n",
              "        google.colab.kernel.accessAllowed ? 'block' : 'none';\n",
              "    })();\n",
              "  </script>\n",
              "</div>\n",
              "\n",
              "    </div>\n",
              "  </div>\n"
            ]
          },
          "metadata": {},
          "execution_count": 54
        }
      ]
    },
    {
      "cell_type": "markdown",
      "source": [
        "Find correlation between columns of data set:\n",
        "1. +ve realtion (If one variable decrease then the other will decrease and vice versa/ you can also say that two variables with +ve correlation value are directly proportional)\n",
        "2. -ve relation (If one variable decrease then the other will increase and vice versa/ you can also say that two variables with -ve correlation value are inversly proportional)"
      ],
      "metadata": {
        "id": "yN-hsAshuaUe"
      }
    },
    {
      "cell_type": "code",
      "source": [
        "correlation_coff = gold_data.corr()\n",
        "#.corr() function generates a matrix (correlation matrix)"
      ],
      "metadata": {
        "colab": {
          "base_uri": "https://localhost:8080/"
        },
        "id": "AsbYEM1buMYy",
        "outputId": "0c3ee388-1423-495f-a6e2-52d3707d2bd3"
      },
      "execution_count": null,
      "outputs": [
        {
          "output_type": "stream",
          "name": "stderr",
          "text": [
            "<ipython-input-55-0926d059e00b>:1: FutureWarning: The default value of numeric_only in DataFrame.corr is deprecated. In a future version, it will default to False. Select only valid columns or specify the value of numeric_only to silence this warning.\n",
            "  correlation_coff = gold_data.corr()\n"
          ]
        }
      ]
    },
    {
      "cell_type": "markdown",
      "source": [
        "gold_data.corr() calculates correlation coefficients between the any two columns of the DataFrame.\n",
        "\n",
        "Correlation coefficient measures the strength and direction of dependency of  two variables, ranging from -1 to 1.\n",
        "\n",
        "1 indicates a perfect positive correlation & -1 indicates a perfect negative correlation, and 0 indicates no correlation.\n",
        "\n",
        "![Screenshot 2023-12-17 163118.png](data:image/png;base64,iVBORw0KGgoAAAANSUhEUgAAAREAAABGCAYAAADraKB1AAAAAXNSR0IArs4c6QAAAARnQU1BAACxjwv8YQUAAAAJcEhZcwAAEnQAABJ0Ad5mH3gAABplSURBVHhe7Z0HXFRX9sePAioCAgrYQMSCip1irwl2g9h7CxqTGNdkU3bXzX+TbdlN4qZsokYjiTVGjUaNrjEae8FesCPYQKUI0pvo//4Ob3CAN42H4sT7/Xz4wNwZZubd9965p91zKgUG9X5IEolEUkYqK78lEomkTEghIpFINCGFiEQi0YQUIhKJRBNSiEgkEk1IISKRSDQhhYhEItGEFCISiUQTUohIJBJNSCEikUg0IYWIRCLRhBQiEolEE1KISCQSTUghIpFINCFLAUieOKHDQik4uLfy6BF3796l+fMWUvydeGXE+pj+8jRq26a18ugRN2Pj6MMPPlIe/baQQuQJ84c575CXZ33lkflkZmbSt+FL6eLFS8qIOm7ubjRuwhg6tP8QHT16XBm1Tho2bEghQwfTxh830fVrN5TR0lSuXJlGjR7Jf3+/ajX/tgamzwij6CsxtPPXXcqIdSKFyBOmb78+NGz4EEpNTROr7lcGbw7cGL6+TSkgyJ8CAv2phpMTbd36C61bu155RWnwmpmzX6WY6BhavWqtMlrI6LEj+f30OSAEzenTZ2jMuFFU09VVGSW6cOES/bBmnfKofMDxhE2bQnXq1lFGiO7fv0+/bNtBd5OSacToYWRfrZryTOF3w82F+Wrbvg0tnLeI0tLTlWeLA6HZoIEXffnf+eTt7U2DQwZRlSp2yrNEySkp9P13a8Tn3OXHYdOnUr16dfnvBw8eis86QLt37eXHZWHi5AlC4DVQHhWi+/4A569vv2CytbXlx8nJKbRi+Xfk4uJMEyaOp63/+5lOHD/Jz1kjNvXq+7yv/C15Aly9eo28G3pTo8Y+5O7uQYcjjtDDh6XlOMaSxEUfeeYsHToQQZ7eXtRAXKjHjhyjvLx85VXFGTZyGLnWdKUVS1eWek1Kyj1hLiRTQIA/1apVk/bt3cfvm5aWRjVq1OALPSExkfbs3kfHj52g7Kxs5T/LBxxP8t0UysnJpsCgAKomBAYEyMkTJykjI4OFS6vWLVkA4oY+G3mWcvPyeL46dupArVq1pCPi2EvSrn1beu75XrRxw09048ZNys3Jodu37/Bc+TbzpTvx8bRh3Sa6feu28h+FAi2oQxAlCfNpxy+/0rmz5/mzykqaWBAyMzPIXwh8zOUv27bzedK9Z2Z6BjVt2oQ8vTzFnB+mA/sOssmWei+VnJ2dqY8QMNAw0w0Iyacd6Vh9wjx48ICWfbucbsXdohZ+zVgLMAVW4PCF34gbO4datGiujBbHW9w0bdu1oZNiRcvIyFRGH4HPizgYQVGXL5OtnR25uNbk93V0cKBAIUAOCoHyycef8Wt0K3Z5c+3aNdqxfSfFxd6iavb2VL26vRAquVS7Tm3ya+VHG37cSAu/WkwnhGDRaR2Yr2NHjlPDRg1ZYJSktxAgCYlJdOrkaX6M/7tw/gIdPXxUCNI8chUaVoa4wXVAgHToGETHjh2nT+d+XuyzygqO69cdu+h23G2qWqWKmFvXYu/ZxLcJ1XJzo88//YI2/7SFX68jIuIwVRK/e/bqUThghUghUgHgAtsg7Pwssdp36tKRtQBT4H8WLwqnGLEyq9He31+oyzYmfSbQMnLFjdvCrzkLninTJtP16zdp1crvlVc8XiAUoH2A9v7teXUeN34MHdx3iLZv+5XHS3LunNAUxHduXcJh6StuTs/6nnT5UpQy8ggIFQjDmq4u5OfXQhmFWVcotFevWsO/y5MzQmt8IDSuZkIDgrACmOMBA/uzyaJmuiYJAXjt2nVq1sKXHB0dlFHrQgqRCgI28GGxCtlXs6eRo0dQvfr1lGcMg5vCkJbQpIkPpaam0tUYdSGj48KFi5R4N0mYNLXopRnTqKCg4LHcUMY4LzSFDCEU63vWp1dfe1kIsRtsAhgCx5yQkEgNfYr7HZriZrWtLEygq8rII6CNXRLCBVoXNDQA/4qnV31auew7FmblDUyw9LR0qluv0DSDj2rUmJF0VJg2xnwe14UQwWu9GhQ/PmtBCpEKBM6+C+cvkZtbLRo2PLRo9bIUrGAuLi50LyVVGTEMbq7I02fJpnIlyr9/nxZ8ufCx3FDGwIocdTmKqlWryr6B71aY1oIgRJwcnYoJW8xbfm4eC081LgphBQ2mYUNvGjp8CHXp3pnWfL9Ws/liCBxXbFwc2QtTLSAwgF6d9TLF3owzKiDBHTEHlcS5r+9peiF5GpFCpALBzbvuh3W80rZq3Yr69A1WnrGMGs7OVEXY4vHx5uVXVK1aheDKdRWCp1nzZoWDKiCi8/7f/0LOLs7KSPkAYQkNAc5W+EMQljZFQcF9ql69On9nHXBiIvQNf48ax8XqHx+fwPPTo2d32vTjT8VMCgjfOe/+kaaGTVFGtANH+P37BdRZmKnpGRlmaXkF4vV2NrZUs+ajCJk1IaMzFQw89A8fPqCWLVsIdd2boqOiOQRoCU41nKhT545069ZtjjQYAyo9BFbszVj2R+Tn59OZ02eUZ4uTcjdFaEoXiyIbyNuYNuNFej64N/Xs1d3gT7ceXfmYEC1RY8y40VSzlitlCq2oTp06wgRIoyviuI3RspUfh2+PHT1OiYmJPIaoDVb9PbvVw7MQUi1aNGPzApGg3bv2KM8UgghWQkICnTp1mrKysnhM6zHaCeHoH9CeUlJSaMEXX1FObq7yjGE8PNwpqEMgm3Wmzt/TiMwTeUqYOesVqlSpEs3/8iuLzQuo+K+/MYsjDmu+/0EZLU237l2o93O9aNnSFeTh7k5TXpxMqeIG/mTuZ+zg06eWMBXc3dw4koAISnmBbNWmvo0576Or+D54DJ/Avz/4yOhxjxozgnr06E4L5i1kRyuYNXsmr95/fe8f/Lgk0Hje/cscfs38LxfQ5ctXlGcKgcAA+tESrQT3fZ5GjBxOx8W5+HphuDJqnJYt/eiVmTNo7959Rs/f04o0Z54CoB1Ud6jOoV8t/gnkHBgCq2P/Af1oy+atrNLrO1iDggKUVxXSpm1rGjVqOE2YNI4GhwxWRrWD42zXvk2RX6LIwSqEYID4fqbIzc2jrOxCjUEH/CoQeGogMoI5QR4KtDR94CPp0+95evW1GdRCL3qjFRxL5cqVSn2eKeDgzswsfmzWghQiFQy0g46dgjQ5/OATgG8APgM1Ogm1f/iIobR505aiKIG+gxWhVn2nbnVhIkRGnuWxhPgEZbTs4H36D+xL3Xt1o5XLVxX5JYocrPbVTIa53YXmlJeXQ2lpj+YIPiAbWzs2adRo3KQxOTg6cPJZydyZ3OxcYabd4VwSnXmkFRwnTK6c3BzViJEhPOp4CJugkjBt7ykj1oX0iVQg0A5ChrzA2ZYXLxjP7wBYcSEo1LJJfZs15VTuI5xkVZitis1gYdOmcnKVo6Mj1RXPnxemAATO2PFjONPTxtaWIzv9+vehunXr0MkTpyg2No78AwPIvbY7p9kbypA1B+wVGj9hDLVp05ocHBzZ/j+w/yA/B3MECWS4+fDd+glNBQ7XSxcv8/P6QAglJt4t5tdwdXXhUCqyWvWdq0jcev3N31FboVHBR4F569mzO5tNyNoFUVFXaPjIoeyHQOauVnCcY7F9oGZNshNzisxg+GIwn6ZABm+d2h68rcEas1alT6SCgKqNG3z/voMmQ4AAN9rs38/iTEz8T0kQfQgdFkKrVnyveeMdPusPc96mOCFMHoqr49cdOw1GQJ4ESCqDQNz283ZOU9eBqM6bb80WZtElWr50hTJqHjBhJk4eT3v37CUXZ9cK3bj3pz+/w5rSF5/PU0asC83mDJJkJk2ewBPRr39fvgDhKHpt1is8BrtTUhzM2bgJYzm71FwBgtfXEqscNsepceL4CUpJTuH0ca0gHR2bxRB+xcpYkQIEtG7bhjLSMzglXx84g8+cOSfMlkY8p5bg6FCdHdm+vr7iPFxURp88EGZONWqUOjZrQpM5g4t72owwcqnpwuG07j26kY9PQwru8zwnEeUX3OcxXABQGyWFcxY240XKzc2lJeHLeN4MAadh125dacrUiZzyDVNk/74DyrPFgckBB2K3bl3ETX+bN++VFbzXkYgjdEkILKTJVyTQ2AYO6s97U2CClOSGMFH8A/2phrOTWSahDjg+ES4+dfxUhV2buBbGjhtNiUlJ9NOmLcqo9aHJnIFXf+iIoUKVXCku8pasieTn5dH6dRspJyeH8wGwJftnYeuZ2lo++IVB1HdAsFCNyqYcxcRco0/mfqo8enrBtvVevXtyfsbDB4an3sbWhhPIdMABuHL5d6qmjD7mbJ23FqBdYG9PYkKS0b09EDTWuKVeP9xtzedKkxBBRmOjxo3oww8+pt8L2xSq2dmz53h3JBxhoUNDKSsrkxYtWGxyYxhWXcTtbWxslBHLwJZvQ/tKniZwjA5ClbaUPCF0oq9EmxUChhmSnZll9UIE14SbuzsnxpkCAsdezKs1VUVDsl9SYmK55uFUBJqECKILAOrgW2+/ztudEWnY8tP/ePxpJnzJIuUviUQSNuUl5S/LKZfoDJKTZrw8nVV0tcxAiUTy26VchAhsu8GD+1Ns3C3623v/KFPW5bNizkgkvzXKRYjMfmMWayMRhw6bvV+gJNbsWO3SrQvXD5VIrJUKNWeQDWht/pDy5qO5/6JvFi8x6TyWSH6LaE42w4YjRycnysrMoqhLpdOVf+sgUxT7OaQAkTyraNZEdFufkdX4j799oGkXqrVhV6UK/fODv9LKFavo9Cn1mhzPGs9i86YnwdPc8EuzEIFDFD0/7tyOt/q8BEtBAd7ADgH09/f/Sc2bN6MXp0/lHbCWgnoWn8z93KQARjIf+pugIrq1E9ghkDqIH7S3KHndYMcx0vdRiR7FgpZ8u6xo568+2GgXOnwIVwWzlBMnT9I3Xy9RHhnGGuccxajR00etR5G5c2sJ5eJYfRZBycC/vPdnWrN6LR2OOMopzCg63LZdW6GVnDZaXAiJUX4tW1CHzh3Ir0VzrpPx1YKvudWBIZCJ2rVbZ76Y9feycBp9GZpClSdBHYN4ldQ1ZwJIKw//+lsaMWo4VxfTod9ICjuJ0cBpoTh23Vxhs92ESeNp/boNFHMlht6Z8zavtkhgLAnmEZsSG3g3oF07dxut1QrfHfZ0YQ59GvnwtgC1Ykz66M85QHIlbj4d2Tk59MPq9UVFjUoeKxIvf1y3UXlkOS+EDKR27dspjwrRbyyGaKb++c3MzKa14npEtbwZM1+i0yfPFNubZcncWoIsBVBG+vQJ5kZRugsXe2BQ3wJNltCcCintly+XbmUA0NQI2+3RuOrq1atcrhA3oKEyhahchgt07559pcwmfG5ZmkKVJxlp6UJo3OGNcE2aNuHkw00bN/PmvezsbOokhKWN0BYOHzpCB/dHFJVbxL6XPsIc9qjtUVQWEH1iAsRxpN5L45omrdu0ImfnGqolEHEcOMaWYs5RjPluUhL3tFED5RPwvbD3CKULEU3MEd/NUFnGknOen59HSQlJYvFwodZiPrNzc2jtqrVchkC3/0l3rPn592n79p1cBkBLEzDs7EWBatR78fDwoMOHj7Kw1L0nzjnOb3OxEKFdBcok4BhRkrFALCQDBw/g8o+oMwssmVtLkEKkDNjbV6NJUybytnT9zVtYAdLT0/jkYLVDQR8UxDEG9oWgCx12qp4+eUq1dkfosCHk4upMa8RFq/b8vXv3+GJuK94D2+ORHo/NaGjJ0Ld/H9ouVqM1q9fxdylvAQLwnljRIShQK7bg4QPaJbQdfFeYfBBsn/3nv3T23Hn+rjrwf4jqoTI6qpxB6KC+LEoPQADjWPoKIXPjZhydMLAREMdkKz4XWy6w+TMqKorPgzFQF9XO1o67EKL+ihol5xzFl6G9ZGVmsLZZrWpVOiGERKK4yXXgWKFVfiqO9ab4DK1dBHU7qFF7t4G3F90Tc7Nv737lWeLz27t3L/ph7TpxjneIxSS5SKCh4BLqtqJOi+4YLZ1bc9EcnXkWQUQGhX2wSpUEpg2K7mA7PXJfzNmijv/B5jqYISWBGu7n14yuRl/llckQMAcsbQpV3qAcwR2x8tURq6Z/gD87A9HnZf4XXxn0l0UK7QtFfFBAqCSDxEqK9p+rVxqv9fG/LVsp8kwkz9WQ0BA28UyB/0EDMbXXGptzZGPHxsby/ieYpDpg+jyunjYnT57mDa0NhLalq4yP68pYTxt8h/PnL5JXAy/eoFgSc+fWHKQQsRBcdN26d6W9u0sLEB2bN26hG0JDweoxacoEZdQ42GSmthELGo29fXWDldP1sbQpVHmDGy46Koark0GV9vdva7Ls4xVhm6O1AjZy6jNm7Giu4vblfxfwxjpj4Ib5adNm9rNACxw5erjyjGHwP5hztRve1JzD9CoQ5ip8LLgesIcMq/7j6mmD/jkoF4CqabpKcOMnjTPZ0yYmOprs7Gw1za05SCFiIdBCsKPWmB2JC2mVkPCwPeGPwCpVVmrX9uDiOQl3TNc6LapZWs38plDlDWp0oBWEk6OjULPXm/T84yZGMSU0otIR3Oc5quWOpuMH+KYJCRmkPGMYfM76dT9yyYQuXbsUbQ4tC6bmXCes8brB4ruh8ZihNpnlQZFwtrVhX87Lr75ENkKQmOppA/MF/hl3RXsBZZlbU0ghogCJbU4ry+49u5nliLpyJZq2/fwL/41cGjWV0hygNqOAUYoZRXyxQlnaFKq8gb9I3IHcIKupb1Nl1DgQJA4ODjz/TZo0pkEvDBRaTHt6483fUdj0qVSlalXllcYpiymphqk5h7BA/9yqQlijNu3ePfsfex0TRPzguEU0Dw7SZUtWqGpR+vDzuBZq1+bHWubWGDLEK8AkY0LRjnHeFwuU0dJ07tJJaBXBBvucqIEyke382wkN4Qp9+K+PlVHzQb+VwMAA+uzTL0yWKUTIFK0YEfLz9PKiDes3iBVym/LsI3CzzhTmzqGDh7lLPSgZnjREojAZVixdoeqfgaCcPGUS3RRmQseOgewfmfvv/xj15QAUbPby8jTrGE2Brnaz3/idMEkaiuOL4DCzpZgz59A+BgwaQAcPHKJvw0vnm6D5VXDfYFq8MJyio2N4DNcYimmb4poQUiVrxmJB+P1br7OWuWDeItY4TYHzjH5EOB+Ps37rMx+dQRe1sOlT2I8AT/a5yHMcAlQDVcvhHdePyJgCdmtzcXNildRdTJaAzm/16tWjiIgj7K03BJyYPo28adH8rzlcjLAfWilgZdZ57HXAKYyw37GjxzjqAM6fu8COYlM/MFfUIkT16tblwsdw9G3buo3aCFUZDtakpGST84VzgFCjqWM0B3w3LAaI1CAfxlR0TA1z5hzaZS23mrR7125V30l6egZdvnS5WElHhHzV5rTkj1qov0nTxryIwUzFHjVz0HVGRPTPUBSqPHimzRn0oUUI9J235tCt24W5C526dOTfJYGNbWdXRZzkRyE2U8C8GDIshL3kWhycKJOIwsKGgM/F3KZQ+E7ox5KcnKzqyC0LMBsmTZ3AKyiOU9/BGhBkvJ+MDvgy0gw05rYEfJd+A/pyTowWE8PYnEPbgT8kKzOb4lQ0FXwHt1q16HacZQ2sjIEoS1VheljaFAtAiDxOnmkhcuniJU5ZB/v3FBZA7tS5k6otDYfqrp3Fe7kaAzfr5CkT+W9zmjobAs6xh5WIqqmk0+MzLG0Khe/03HM96ZXXZrDfRCvQQND9Pv5OQrE6qDoHa0Nvb5Md5pCPAe3IlNljCpw31GQ1pxO/MYzNOUC0AxnL91JT6GpM8RacMCEmTZ1IIaGDaaKZkTlzaNTIh30c5kTpdKD7HwRPamr5R4z0kclmCreFJoJmTjABsrKzi9mciLBAQ1nyzVJlxDRjx4/mXI3wRd+Y1dQZr83Lyy0yL3TY2tgIbSKANQf971SWplBIlnISNxqcaTjOX37eXsrUMRddgyg4Ft3c3LhDHbSgG9dvstb2oriZHZ0c+SJGJi1CoEjrh7DQB4KsR88e/JyWZtY4VlTRx/Es+cZ4FX2A18OERcZrydcamnPsj3rnT29T125dOIEOzuDn+zzHx4TjBkhgS0xM4teixo2xrQzmwA3IwqawcKpc2UZoz75sbh3cf0h5hWEQ7m7atAlnueqyVh8H0rGqB/qzwqsPgfLun95TRolzLpCdaG5vEJgXaI8Zvvhbs8J+WKlDQl+gxYvCS1Vnw8X+RyEwsnOyNe9xAEikgrMN9v7TUPsF8zR0WCgtXbKczpyOVEYtB1X0sd1g3ufzzcrVgGYJU0ttTrXOOY4JyVyLFoaX0lSeJNNnhFFdoSk+7t31MsSrxz7FpMHEo/UkwKYlP3GTmytAsAr37NWdsyHNESDwuo8YNZSS794tJUAATv6RI0c5goQQnVaQIIUSlAUF91lgVjTYaxQbF6dJgEBoY+X/bsUqswRIY2GO9B/YT9zg15WR4midcxxTgtBGAgMDOa+jIsB15e3dgI6K43icAgRIIaJHUlISJ+GAHkIQFP7uQcvMbNGIEGfo0BDas3ufSaceNAJs2Z7z7h84EmBM7d25YxfdvHmTegtzSyvcrqJSJfLx8aHIyLLfuOUB/DWeDbxo6+aflRHLsURo4/xMFabBG2/O5pIN58+eVZ4pjZY5RxYozB3kkZyNPKeMPln6D+jHDlW0Hn3cSHOmBNhW/t5f3+W/4XT9v/f/bFb9STj1sC0dXvS8XOOb3KpUrVKsIHVCfDzN/fgzVU1EB95fbXt3WUBkAWHQiux3Aofs5LBJHGYu694eCIVXZ77MTs77+aX3HelA9inmHGaKjitRV+hf/zReJKmsc47Pcfdwp4oqFARTDT/Ll60wSxvWihQiKrz1zhvsp0Bm6jWh8u7da3ifjA4t1eqRGWlOkhU+w9xmTk87uEG1NpvCe9T38qTKQkhYirndAaxxzp908zIpRFRANAYqL9BSBVsieRaQPhEVYMfCxEAFKIlEYhypiUgkEk1ITUQikWhCChGJRKIJKUQkEokmpBCRSCSakEJEIpFoQgoRiUSiCSlEJBKJJqQQkUgkGiD6f7ViLj+dXd5IAAAAAElFTkSuQmCC)\n",
        "\n",
        "\n",
        "![Screenshot 2023-12-17 163257.png](data:image/png;base64,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)"
      ],
      "metadata": {
        "id": "KcnDdTtnZVDn"
      }
    },
    {
      "cell_type": "markdown",
      "source": [
        "We plot the correlation cofficient matrix genreated By using\n",
        "correlation_coff = gold_data.corr()"
      ],
      "metadata": {
        "id": "NwHKnLKgbvdy"
      }
    },
    {
      "cell_type": "code",
      "source": [
        "# Constructing a heatmap to understand the correlation\n",
        "plt.figure(figsize=(5, 5))  # Set up a figure with a size of 5x5 inches\n",
        "\n",
        "# Seaborn function is used to create a heatmap.\n",
        "sns.heatmap(\n",
        "            correlation_coff,  # Use the correlation matrix as the data\n",
        "            cbar=True,    # Include a color bar on the side which represent the maximum and minimum values and all the other values between them using differnet shades\n",
        "            square=True,  # Ensure that the cells of heatmap is square\n",
        "            fmt='.1f',    # Format the annotations values to one decimal place\n",
        "            annot=True,   # Display the correlation values in each cell\n",
        "            annot_kws={'size': 8, 'weight': 'bold'},  # annotation keyword arguments set the size of annotations to 8 point\n",
        "            cmap='Greys'   # Use the 'Greys' color map for the heatmap\n",
        "            )\n",
        "# Display the heatmap\n",
        "plt.show()"
      ],
      "metadata": {
        "colab": {
          "base_uri": "https://localhost:8080/",
          "height": 427
        },
        "id": "Bns1IEUOvrTt",
        "outputId": "6e670a98-a6d7-4154-e19b-77beda904e78"
      },
      "execution_count": null,
      "outputs": [
        {
          "output_type": "display_data",
          "data": {
            "text/plain": [
              "<Figure size 500x500 with 2 Axes>"
            ],
            "image/png": "[encoded data removed]"
          },
          "metadata": {}
        }
      ]
    },
    {
      "cell_type": "code",
      "source": [
        "# correlation values of GLD\n",
        "print(correlation_coff['GLD']) # prints the correlation values between the GLD column and all other columns in the DataFrame"
      ],
      "metadata": {
        "id": "8a9RUFilwUfi",
        "colab": {
          "base_uri": "https://localhost:8080/"
        },
        "outputId": "76b9526e-9f89-4649-f3e1-5ad9f68e960f"
      },
      "execution_count": null,
      "outputs": [
        {
          "output_type": "stream",
          "name": "stdout",
          "text": [
            "SPX        0.049345\n",
            "GLD        1.000000\n",
            "USO       -0.186360\n",
            "SLV        0.866632\n",
            "EUR/USD   -0.024375\n",
            "Name: GLD, dtype: float64\n"
          ]
        }
      ]
    },
    {
      "cell_type": "code",
      "source": [
        "# check the distribution of the gold price\n",
        "sns.distplot(gold_data['GLD'],color = 'grey') # or use displot/distplot"
      ],
      "metadata": {
        "colab": {
          "base_uri": "https://localhost:8080/",
          "height": 672
        },
        "id": "TTTpessezzel",
        "outputId": "b15540f0-a0d7-43a4-fed5-3e4147b025d7"
      },
      "execution_count": null,
      "outputs": [
        {
          "output_type": "stream",
          "name": "stderr",
          "text": [
            "<ipython-input-58-278d10a52c90>:2: UserWarning: \n",
            "\n",
            "`distplot` is a deprecated function and will be removed in seaborn v0.14.0.\n",
            "\n",
            "Please adapt your code to use either `displot` (a figure-level function with\n",
            "similar flexibility) or `histplot` (an axes-level function for histograms).\n",
            "\n",
            "For a guide to updating your code to use the new functions, please see\n",
            "https://gist.github.com/mwaskom/de44147ed2974457ad6372750bbe5751\n",
            "\n",
            "  sns.distplot(gold_data['GLD'],color = 'grey') # or use displot/distplot\n"
          ]
        },
        {
          "output_type": "execute_result",
          "data": {
            "text/plain": [
              "<Axes: xlabel='GLD', ylabel='Density'>"
            ]
          },
          "metadata": {},
          "execution_count": 58
        },
        {
          "output_type": "display_data",
          "data": {
            "text/plain": [
              "<Figure size 640x480 with 1 Axes>"
            ],
            "image/png": "[encoded data removed]"
          },
          "metadata": {}
        }
      ]
    },
    {
      "cell_type": "markdown",
      "source": [
        "Split the Gold from other cloumn's"
      ],
      "metadata": {
        "id": "eDthcKns47X-"
      }
    },
    {
      "cell_type": "code",
      "source": [
        "X = gold_data.drop(['Date','GLD'],axis =1)\n",
        "# create a new DataFrame X by dropping the 'Date' and 'GLD' columns from the original DataFrame.\n",
        "Y = gold_data['GLD']\n",
        "# create a series Y containing the values from the 'GLD' column it represents the target variable (dependent variable) that we want to predict."
      ],
      "metadata": {
        "id": "LCX09_9D1AOq"
      },
      "execution_count": null,
      "outputs": []
    },
    {
      "cell_type": "code",
      "source": [
        "print(X)"
      ],
      "metadata": {
        "colab": {
          "base_uri": "https://localhost:8080/"
        },
        "id": "TKDdJKd-5Sn2",
        "outputId": "bd97ede4-fdc6-472e-dc12-8def908f994c"
      },
      "execution_count": null,
      "outputs": [
        {
          "output_type": "stream",
          "name": "stdout",
          "text": [
            "              SPX        USO      SLV   EUR/USD\n",
            "0     1447.160034  78.470001  15.1800  1.471692\n",
            "1     1447.160034  78.370003  15.2850  1.474491\n",
            "2     1411.630005  77.309998  15.1670  1.475492\n",
            "3     1416.180054  75.500000  15.0530  1.468299\n",
            "4     1390.189941  76.059998  15.5900  1.557099\n",
            "...           ...        ...      ...       ...\n",
            "2285  2671.919922  14.060000  15.5100  1.186789\n",
            "2286  2697.790039  14.370000  15.5300  1.184722\n",
            "2287  2723.070068  14.410000  15.7400  1.191753\n",
            "2288  2730.129883  14.380000  15.5600  1.193118\n",
            "2289  2725.780029  14.405800  15.4542  1.182033\n",
            "\n",
            "[2290 rows x 4 columns]\n"
          ]
        }
      ]
    },
    {
      "cell_type": "code",
      "source": [
        "print(Y)"
      ],
      "metadata": {
        "colab": {
          "base_uri": "https://localhost:8080/"
        },
        "id": "Ik2GmFnT5VC7",
        "outputId": "dfd9dbd6-586f-4676-e30a-4d6268734d41"
      },
      "execution_count": null,
      "outputs": [
        {
          "output_type": "stream",
          "name": "stdout",
          "text": [
            "0        84.860001\n",
            "1        85.570000\n",
            "2        85.129997\n",
            "3        84.769997\n",
            "4        86.779999\n",
            "           ...    \n",
            "2285    124.589996\n",
            "2286    124.330002\n",
            "2287    125.180000\n",
            "2288    124.489998\n",
            "2289    122.543800\n",
            "Name: GLD, Length: 2290, dtype: float64\n"
          ]
        }
      ]
    },
    {
      "cell_type": "markdown",
      "source": [
        "Split data into training and testing data"
      ],
      "metadata": {
        "id": "fXer2Q6u5fnR"
      }
    },
    {
      "cell_type": "code",
      "source": [
        "X_train, X_test, Y_train, Y_test =  train_test_split(\n",
        "                  X,  # Feature matrix we created after dropping gold and dates (in original data frame)\n",
        "                  Y,  # Target variable ( variable we want to predict)\n",
        "                  test_size= 0.2,  # Percentage of data to use for testing 20% of data for testing, and  80% for training\n",
        "                  random_state= 2  # Seed for reproducibility ensures that the random split of the data is same every time to obtain consistent results each time we split the data\n",
        "                )"
      ],
      "metadata": {
        "id": "8OVOLt0d5XbS"
      },
      "execution_count": null,
      "outputs": []
    },
    {
      "cell_type": "markdown",
      "source": [
        "Model training: [Random forest regessor](https://miro.medium.com/v2/resize:fit:1400/format:webp/1*ZFuMI_HrI3jt2Wlay73IUQ.png)\n",
        "\n",
        "A random forest is a estimator that fits a number of decision trees on various sub-samples of the dataset and uses averaging to improve the predictive accuracy."
      ],
      "metadata": {
        "id": "bbGZwlFOBv7H"
      }
    },
    {
      "cell_type": "code",
      "source": [
        "regressor = RandomForestRegressor(n_estimators = 100)\n",
        "# create a RandomForestRegressor class from scikit-learn The n_estimators  is set to 100, which shows the number of trees in the random forest."
      ],
      "metadata": {
        "id": "qzBX-yt_6LoO"
      },
      "execution_count": null,
      "outputs": []
    },
    {
      "cell_type": "code",
      "source": [
        "#training the model\n",
        "# This fits the RandomForestRegressor model using the training data.\n",
        "# X_train represents the features (independent variables), and Y_train represents the target variable (dependent variable) that the model will learn to predict.\n",
        "regressor.fit(X_train,Y_train)"
      ],
      "metadata": {
        "colab": {
          "base_uri": "https://localhost:8080/",
          "height": 74
        },
        "id": "4bUhBtA_GmDX",
        "outputId": "9496c6bf-5b61-4621-d65c-635a377e08ef"
      },
      "execution_count": null,
      "outputs": [
        {
          "output_type": "execute_result",
          "data": {
            "text/plain": [
              "RandomForestRegressor()"
            ],
            "text/html": [
              "<style>#sk-container-id-3 {color: black;background-color: white;}#sk-container-id-3 pre{padding: 0;}#sk-container-id-3 div.sk-toggleable {background-color: white;}#sk-container-id-3 label.sk-toggleable__label {cursor: pointer;display: block;width: 100%;margin-bottom: 0;padding: 0.3em;box-sizing: border-box;text-align: center;}#sk-container-id-3 label.sk-toggleable__label-arrow:before {content: \"▸\";float: left;margin-right: 0.25em;color: #696969;}#sk-container-id-3 label.sk-toggleable__label-arrow:hover:before {color: black;}#sk-container-id-3 div.sk-estimator:hover label.sk-toggleable__label-arrow:before {color: black;}#sk-container-id-3 div.sk-toggleable__content {max-height: 0;max-width: 0;overflow: hidden;text-align: left;background-color: #f0f8ff;}#sk-container-id-3 div.sk-toggleable__content pre {margin: 0.2em;color: black;border-radius: 0.25em;background-color: #f0f8ff;}#sk-container-id-3 input.sk-toggleable__control:checked~div.sk-toggleable__content {max-height: 200px;max-width: 100%;overflow: auto;}#sk-container-id-3 input.sk-toggleable__control:checked~label.sk-toggleable__label-arrow:before {content: \"▾\";}#sk-container-id-3 div.sk-estimator input.sk-toggleable__control:checked~label.sk-toggleable__label {background-color: #d4ebff;}#sk-container-id-3 div.sk-label input.sk-toggleable__control:checked~label.sk-toggleable__label {background-color: #d4ebff;}#sk-container-id-3 input.sk-hidden--visually {border: 0;clip: rect(1px 1px 1px 1px);clip: rect(1px, 1px, 1px, 1px);height: 1px;margin: -1px;overflow: hidden;padding: 0;position: absolute;width: 1px;}#sk-container-id-3 div.sk-estimator {font-family: monospace;background-color: #f0f8ff;border: 1px dotted black;border-radius: 0.25em;box-sizing: border-box;margin-bottom: 0.5em;}#sk-container-id-3 div.sk-estimator:hover {background-color: #d4ebff;}#sk-container-id-3 div.sk-parallel-item::after {content: \"\";width: 100%;border-bottom: 1px solid gray;flex-grow: 1;}#sk-container-id-3 div.sk-label:hover label.sk-toggleable__label {background-color: #d4ebff;}#sk-container-id-3 div.sk-serial::before {content: \"\";position: absolute;border-left: 1px solid gray;box-sizing: border-box;top: 0;bottom: 0;left: 50%;z-index: 0;}#sk-container-id-3 div.sk-serial {display: flex;flex-direction: column;align-items: center;background-color: white;padding-right: 0.2em;padding-left: 0.2em;position: relative;}#sk-container-id-3 div.sk-item {position: relative;z-index: 1;}#sk-container-id-3 div.sk-parallel {display: flex;align-items: stretch;justify-content: center;background-color: white;position: relative;}#sk-container-id-3 div.sk-item::before, #sk-container-id-3 div.sk-parallel-item::before {content: \"\";position: absolute;border-left: 1px solid gray;box-sizing: border-box;top: 0;bottom: 0;left: 50%;z-index: -1;}#sk-container-id-3 div.sk-parallel-item {display: flex;flex-direction: column;z-index: 1;position: relative;background-color: white;}#sk-container-id-3 div.sk-parallel-item:first-child::after {align-self: flex-end;width: 50%;}#sk-container-id-3 div.sk-parallel-item:last-child::after {align-self: flex-start;width: 50%;}#sk-container-id-3 div.sk-parallel-item:only-child::after {width: 0;}#sk-container-id-3 div.sk-dashed-wrapped {border: 1px dashed gray;margin: 0 0.4em 0.5em 0.4em;box-sizing: border-box;padding-bottom: 0.4em;background-color: white;}#sk-container-id-3 div.sk-label label {font-family: monospace;font-weight: bold;display: inline-block;line-height: 1.2em;}#sk-container-id-3 div.sk-label-container {text-align: center;}#sk-container-id-3 div.sk-container {/* jupyter's `normalize.less` sets `[hidden] { display: none; }` but bootstrap.min.css set `[hidden] { display: none !important; }` so we also need the `!important` here to be able to override the default hidden behavior on the sphinx rendered scikit-learn.org. See: https://github.com/scikit-learn/scikit-learn/issues/21755 */display: inline-block !important;position: relative;}#sk-container-id-3 div.sk-text-repr-fallback {display: none;}</style><div id=\"sk-container-id-3\" class=\"sk-top-container\"><div class=\"sk-text-repr-fallback\"><pre>RandomForestRegressor()</pre><b>In a Jupyter environment, please rerun this cell to show the HTML representation or trust the notebook. <br />On GitHub, the HTML representation is unable to render, please try loading this page with nbviewer.org.</b></div><div class=\"sk-container\" hidden><div class=\"sk-item\"><div class=\"sk-estimator sk-toggleable\"><input class=\"sk-toggleable__control sk-hidden--visually\" id=\"sk-estimator-id-3\" type=\"checkbox\" checked><label for=\"sk-estimator-id-3\" class=\"sk-toggleable__label sk-toggleable__label-arrow\">RandomForestRegressor</label><div class=\"sk-toggleable__content\"><pre>RandomForestRegressor()</pre></div></div></div></div></div>"
            ]
          },
          "metadata": {},
          "execution_count": 64
        }
      ]
    },
    {
      "cell_type": "markdown",
      "source": [
        "Model Evaluation"
      ],
      "metadata": {
        "id": "qbHON9hrHcpf"
      }
    },
    {
      "cell_type": "code",
      "source": [
        "# prediction on test data\n",
        "test_data_prediction = regressor.predict(X_test)"
      ],
      "metadata": {
        "id": "pC1O5DM7Vkqb"
      },
      "execution_count": null,
      "outputs": []
    },
    {
      "cell_type": "code",
      "source": [
        " # 'test_data_prediction' is  be a NumPy array containing the predicted values for the target variable (GLD) based on the features in the test set (X_test).\n",
        "print(test_data_prediction)"
      ],
      "metadata": {
        "colab": {
          "base_uri": "https://localhost:8080/"
        },
        "id": "gQc1m96iV-Kd",
        "outputId": "ccb3b2b1-f88f-47dc-949b-62d84dea74e4"
      },
      "execution_count": null,
      "outputs": [
        {
          "output_type": "stream",
          "name": "stdout",
          "text": [
            "[168.61759952  81.75869997 116.01290029 127.6271006  120.65680117\n",
            " 154.90869746 150.50639856 126.15490022 117.39449882 125.98530073\n",
            " 116.70940098 171.47000077 142.16929888 167.51359835 115.12039982\n",
            " 117.44110047 138.84600294 169.8037004  159.19720311 158.53339942\n",
            " 154.93949993 125.47930051 176.6129005  157.20570299 125.17550055\n",
            "  93.67389912  78.57940005 120.65840021 119.04829907 167.51949994\n",
            "  88.06460031 125.4469002   91.12600074 117.57570003 121.12859918\n",
            " 136.69760074 115.30400116 114.90390077 146.32859986 107.1818009\n",
            " 104.39090242  87.26939776 126.45990069 118.01889957 151.85419921\n",
            " 119.65930026 108.42620023 108.35269827  93.14460068 127.03739801\n",
            "  75.6193003  113.66199926 121.3102003  111.35819905 118.79319888\n",
            " 120.72339928 159.31090078 167.68290104 147.26469677  85.72189854\n",
            "  94.53070059  86.82049912  90.52980024 119.0664006  126.41390067\n",
            " 127.5944001  170.06609923 122.13969912 117.38479858  98.68700032\n",
            " 168.37440087 142.94819861 131.64280238 121.25740226 121.28939953\n",
            " 119.60660066 114.49020181 118.27780055 106.82270078 127.84510032\n",
            " 113.92939952 106.98080005 116.73470036 119.54929933  89.09400039\n",
            "  88.30699872 146.79840165 127.10039983 113.24390055 109.94769845\n",
            " 108.29929899  77.61739895 168.82400118 114.22249913 121.63639893\n",
            " 128.05010182 155.01109772  91.77149953 136.53640105 159.14220361\n",
            " 124.90230043 125.46710094 130.58820186 114.8706011  119.91810014\n",
            "  92.15179979 110.69949914 167.74439825 157.51769978 114.36649961\n",
            " 106.91760101  79.77539977 113.29360041 125.85690091 107.41589918\n",
            " 119.26230111 155.52760286 159.48579917 120.00589989 133.15400322\n",
            " 101.4060999  117.50479808 119.16490042 112.96790069 102.82759922\n",
            " 160.34319758  99.10910039 148.94299856 125.51410118 169.24199925\n",
            " 125.71149915 127.41569738 127.48070209 113.86159925 112.80510066\n",
            " 123.55879922 102.21329869  89.01760007 124.7594995  101.78849936\n",
            " 106.99269912 113.23890058 117.46350075  99.27659945 121.86190035\n",
            " 163.59619924  87.50809842 106.85889981 117.22710051 127.65130153\n",
            " 124.25840087  80.66579904 120.37090062 157.13499814  87.85099968\n",
            " 110.48449909 118.76389933 172.17759898 103.06369915 105.63280039\n",
            " 122.17120024 157.66479793  87.44969835  93.30430054 112.77060039\n",
            " 177.56930015 114.20709966 119.17420043  94.53910099 125.39820004\n",
            " 166.23210108 114.89030052 116.71270139  88.3701986  148.95010115\n",
            " 120.31839899  89.5559     111.72480012 117.09650028 118.70580096\n",
            "  87.96509943  94.07100012 116.91539992 118.57730183 120.30120058\n",
            " 126.6418986  121.93319969 151.01830047 165.50530092 118.61149952\n",
            " 120.22670145 150.62460096 118.24559921 172.11789924 105.43659932\n",
            " 104.99620139 149.02600113 113.56090092 124.87920128 147.51979919\n",
            " 119.60440113 115.24690013 112.62390013 113.51950197 140.77580116\n",
            " 117.76949784 102.89790015 115.87550099 103.78930171  98.92530054\n",
            " 117.3681007   90.58870022  91.58100042 153.7118987  102.7157\n",
            " 155.04100093 114.41510172 139.4824013   90.23119782 115.57079944\n",
            " 114.74379964 122.96030055 121.78310001 165.51540082  92.85769941\n",
            " 134.95210098 121.39479967 120.76980131 104.64739996 141.27040273\n",
            " 121.70469895 116.68330035 113.43150069 127.19269754 122.93329936\n",
            " 125.83740007 121.23830065  86.83959871 132.09290126 146.52570157\n",
            "  92.76999946 159.24999978 159.46490269 126.03949924 164.82029957\n",
            " 108.86460003 109.95910117 103.75019819  94.34660068 128.02030289\n",
            " 107.12150078 162.44360054 121.83610027 131.92860041 130.67670208\n",
            " 161.03170009  90.16389841 175.88340219 127.05240027 126.60349887\n",
            "  86.54149932 124.66159936 150.30669746  89.67160028 107.27859963\n",
            " 108.91380012  83.88459934 136.04540002 154.95710146 138.50560409\n",
            "  74.23110034 152.12090132 126.04909983 126.75099986 127.41549904\n",
            " 108.58119951 156.50660073 114.53180134 117.03080147 125.44089955\n",
            " 154.15120139 121.31510014 156.41609855  92.80310038 125.56850172\n",
            " 125.73560018  87.81700059  92.17109917 126.31889944 128.15420256\n",
            " 113.25620027 117.6731973  120.89650072 127.1592981  119.53930157\n",
            " 136.33230092  93.81799919 119.78350036 113.29880104  94.28829964\n",
            " 108.88239968  86.95489931 109.26759957  89.58149992  92.5051002\n",
            " 131.74100312 162.46020112  89.37030038 119.51920072 133.31520209\n",
            " 123.93380039 128.2624018  101.98549847  89.06599904 131.90770048\n",
            " 119.97680082 108.73150016 168.46880158 115.1221002   86.56239864\n",
            " 118.8100009   90.9714994  162.35980049 116.54990042 121.5524999\n",
            " 160.41039807 120.10259939 112.70399932 108.50009867 126.82700027\n",
            "  76.5479001  102.89789949 127.66910263 121.66989919  92.58250016\n",
            " 132.29450116 118.08460116 116.21529987 154.41610282 159.61850035\n",
            " 110.03369971 155.07179802 119.30000117 160.13470094 118.34700035\n",
            " 159.09269953 115.03759927 116.67890033 149.554699   114.56760088\n",
            " 125.85219901 166.03219942 117.67950045 125.145899   153.13180379\n",
            " 153.57880245 132.1497999  114.76060049 121.09900227 124.98930099\n",
            "  89.63480048 122.9967998  155.3650029  111.83100058 106.73230021\n",
            " 161.59950091 118.33229956 165.72820049 134.01280094 114.87259953\n",
            " 153.05089932 168.72439944 114.48640013 113.9596011  158.09579958\n",
            "  85.25859889 127.11750084 127.77420031 128.75920017 124.41110047\n",
            " 124.02390085  90.59270059 152.96090054  97.20949954 137.42699954\n",
            "  89.14979894 106.80640016 114.91120047 112.98710094 124.64269889\n",
            "  91.44489847 125.31650127 162.24089845 119.87999868 165.16530089\n",
            " 126.71119844 112.21660003 127.64489922  95.0816995   90.99599983\n",
            " 103.44899923 120.76810032  82.71629961 126.23340005 159.95550456\n",
            " 117.29420078 117.96039961 119.8973999  122.26539939 119.96970141\n",
            " 121.40530015 118.21850048 107.0755003  148.20239982 126.06759872\n",
            " 115.59470031  74.01790002 127.81230078 153.42420053 122.04489966\n",
            " 125.57800038  88.85059987 103.36939891 124.6958     120.19910006\n",
            "  73.36040114 151.66019989 121.26560076 104.54450018  86.42519771\n",
            " 114.94719906 172.16119825 120.01320036 160.71249834 113.16869967\n",
            " 121.17430008 118.39340095  96.01569997 118.7925999  125.95850039\n",
            " 118.53819951  96.16640098 153.71950153 122.01790014 147.56789926\n",
            " 159.55220233 113.6967001  122.40019948 148.91949789 127.41250043\n",
            " 165.8620009  136.50050097 120.06250003 167.22669779 108.49669939\n",
            " 121.73489835 138.96030153 105.82229881]\n"
          ]
        }
      ]
    },
    {
      "cell_type": "code",
      "source": [
        "# R squared error\n",
        "error_score = metrics.r2_score(Y_test, test_data_prediction)\n",
        "print(\"R squared error : \",error_score)\n",
        "\n",
        "#calculate the R2 score, which is a measure of how well the prediction is made by our model explain the variance in the actual values.\n",
        "# The R2 score ranges from 0 to 1, where a higher value indicates a better fit. A negative R2 score suggests that the model is performing worse than a simple mean-based model"
      ],
      "metadata": {
        "colab": {
          "base_uri": "https://localhost:8080/"
        },
        "id": "57LXTEiLWMPP",
        "outputId": "069ee4b0-ed72-47b2-813c-bbf7add58a35"
      },
      "execution_count": null,
      "outputs": [
        {
          "output_type": "stream",
          "name": "stdout",
          "text": [
            "R squared error :  0.989281676630094\n"
          ]
        }
      ]
    },
    {
      "cell_type": "markdown",
      "source": [
        "Compare the Actual and predicted values in a plot"
      ],
      "metadata": {
        "id": "gaw0KI9Fkrac"
      }
    },
    {
      "cell_type": "code",
      "source": [
        "Y_test = list(Y_test)"
      ],
      "metadata": {
        "id": "Gq5o-wCLj7UA"
      },
      "execution_count": null,
      "outputs": []
    },
    {
      "cell_type": "code",
      "source": [
        "plt.plot(Y_test, color='blue', label='Actual Value')\n",
        "plt.plot(test_data_prediction, color= 'green',label='Predicted Value')\n",
        "plt.title('Actual Price vs Predicted Price')\n",
        "plt.xlabel('Number of values')\n",
        "plt.ylabel('GLD Price')\n",
        "plt.legend()\n",
        "plt.show()"
      ],
      "metadata": {
        "colab": {
          "base_uri": "https://localhost:8080/",
          "height": 472
        },
        "id": "isr_Q-H2k3Tm",
        "outputId": "b1ca0cb9-b652-4924-846b-7cc6da08c883"
      },
      "execution_count": null,
      "outputs": [
        {
          "output_type": "display_data",
          "data": {
            "text/plain": [
              "<Figure size 640x480 with 1 Axes>"
            ],
            "image/png": "[encoded data removed]"
          },
          "metadata": {}
        }
      ]
    }
  ]
}